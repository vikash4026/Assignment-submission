{
  "nbformat": 4,
  "nbformat_minor": 0,
  "metadata": {
    "colab": {
      "name": "Day_1.ipynb",
      "provenance": []
    },
    "kernelspec": {
      "name": "python3",
      "display_name": "Python 3"
    },
    "language_info": {
      "name": "python"
    }
  },
  "cells": [
    {
      "cell_type": "code",
      "metadata": {
        "id": "wIHt87x4bEtc"
      },
      "source": [
        "import numpy as np"
      ],
      "execution_count": 1,
      "outputs": []
    },
    {
      "cell_type": "code",
      "metadata": {
        "id": "wL0Pyh1EbPmI"
      },
      "source": [
        "arr=np.random.randn(10000, 10)"
      ],
      "execution_count": 58,
      "outputs": []
    },
    {
      "cell_type": "code",
      "metadata": {
        "id": "h3Xduj2nbeQa"
      },
      "source": [
        "import pandas as pd"
      ],
      "execution_count": 22,
      "outputs": []
    },
    {
      "cell_type": "code",
      "metadata": {
        "id": "OPxagxFFbtK9"
      },
      "source": [
        "df=pd.DataFrame(data=arr)"
      ],
      "execution_count": 23,
      "outputs": []
    },
    {
      "cell_type": "code",
      "metadata": {
        "colab": {
          "base_uri": "https://localhost:8080/",
          "height": 282
        },
        "id": "81MY7DjwemC1",
        "outputId": "aa2559de-7a2a-4571-8a6b-4b189c4404d2"
      },
      "source": [
        "df[5].plot.hist()"
      ],
      "execution_count": 24,
      "outputs": [
        {
          "output_type": "execute_result",
          "data": {
            "text/plain": [
              "<matplotlib.axes._subplots.AxesSubplot at 0x7f1bdc0ba090>"
            ]
          },
          "metadata": {},
          "execution_count": 24
        },
        {
          "output_type": "display_data",
          "data": {
            "image/png": "[encoded data removed]",
            "text/plain": [
              "<Figure size 432x288 with 1 Axes>"
            ]
          },
          "metadata": {
            "needs_background": "light"
          }
        }
      ]
    },
    {
      "cell_type": "code",
      "metadata": {
        "colab": {
          "base_uri": "https://localhost:8080/",
          "height": 297
        },
        "id": "orioj1qGeRwZ",
        "outputId": "08de480c-893e-4cee-f1aa-148ff191278e"
      },
      "source": [
        "df.describe()"
      ],
      "execution_count": 26,
      "outputs": [
        {
          "output_type": "execute_result",
          "data": {
            "text/html": [
              "<div>\n",
              "<style scoped>\n",
              "    .dataframe tbody tr th:only-of-type {\n",
              "        vertical-align: middle;\n",
              "    }\n",
              "\n",
              "    .dataframe tbody tr th {\n",
              "        vertical-align: top;\n",
              "    }\n",
              "\n",
              "    .dataframe thead th {\n",
              "        text-align: right;\n",
              "    }\n",
              "</style>\n",
              "<table border=\"1\" class=\"dataframe\">\n",
              "  <thead>\n",
              "    <tr style=\"text-align: right;\">\n",
              "      <th></th>\n",
              "      <th>0</th>\n",
              "      <th>1</th>\n",
              "      <th>2</th>\n",
              "      <th>3</th>\n",
              "      <th>4</th>\n",
              "      <th>5</th>\n",
              "      <th>6</th>\n",
              "      <th>7</th>\n",
              "      <th>8</th>\n",
              "      <th>9</th>\n",
              "    </tr>\n",
              "  </thead>\n",
              "  <tbody>\n",
              "    <tr>\n",
              "      <th>count</th>\n",
              "      <td>10000.000000</td>\n",
              "      <td>10000.000000</td>\n",
              "      <td>10000.000000</td>\n",
              "      <td>10000.000000</td>\n",
              "      <td>10000.000000</td>\n",
              "      <td>10000.000000</td>\n",
              "      <td>10000.000000</td>\n",
              "      <td>10000.000000</td>\n",
              "      <td>10000.000000</td>\n",
              "      <td>10000.000000</td>\n",
              "    </tr>\n",
              "    <tr>\n",
              "      <th>mean</th>\n",
              "      <td>0.007123</td>\n",
              "      <td>0.004094</td>\n",
              "      <td>-0.014160</td>\n",
              "      <td>0.010173</td>\n",
              "      <td>-0.007009</td>\n",
              "      <td>0.008164</td>\n",
              "      <td>0.005517</td>\n",
              "      <td>0.007159</td>\n",
              "      <td>-0.002836</td>\n",
              "      <td>-0.008586</td>\n",
              "    </tr>\n",
              "    <tr>\n",
              "      <th>std</th>\n",
              "      <td>0.993185</td>\n",
              "      <td>0.997870</td>\n",
              "      <td>1.004351</td>\n",
              "      <td>1.004691</td>\n",
              "      <td>0.990622</td>\n",
              "      <td>0.996006</td>\n",
              "      <td>1.001421</td>\n",
              "      <td>0.996635</td>\n",
              "      <td>0.988386</td>\n",
              "      <td>1.001210</td>\n",
              "    </tr>\n",
              "    <tr>\n",
              "      <th>min</th>\n",
              "      <td>-3.719071</td>\n",
              "      <td>-3.461308</td>\n",
              "      <td>-3.582317</td>\n",
              "      <td>-4.106710</td>\n",
              "      <td>-3.517652</td>\n",
              "      <td>-3.422400</td>\n",
              "      <td>-3.709375</td>\n",
              "      <td>-3.479024</td>\n",
              "      <td>-4.156086</td>\n",
              "      <td>-3.912793</td>\n",
              "    </tr>\n",
              "    <tr>\n",
              "      <th>25%</th>\n",
              "      <td>-0.678734</td>\n",
              "      <td>-0.656790</td>\n",
              "      <td>-0.686237</td>\n",
              "      <td>-0.676816</td>\n",
              "      <td>-0.682512</td>\n",
              "      <td>-0.661085</td>\n",
              "      <td>-0.674593</td>\n",
              "      <td>-0.667377</td>\n",
              "      <td>-0.667718</td>\n",
              "      <td>-0.663477</td>\n",
              "    </tr>\n",
              "    <tr>\n",
              "      <th>50%</th>\n",
              "      <td>0.004211</td>\n",
              "      <td>0.011743</td>\n",
              "      <td>-0.005688</td>\n",
              "      <td>-0.006327</td>\n",
              "      <td>-0.014439</td>\n",
              "      <td>0.013815</td>\n",
              "      <td>0.010455</td>\n",
              "      <td>0.023265</td>\n",
              "      <td>0.000474</td>\n",
              "      <td>-0.015285</td>\n",
              "    </tr>\n",
              "    <tr>\n",
              "      <th>75%</th>\n",
              "      <td>0.678844</td>\n",
              "      <td>0.665233</td>\n",
              "      <td>0.663994</td>\n",
              "      <td>0.695677</td>\n",
              "      <td>0.665185</td>\n",
              "      <td>0.659516</td>\n",
              "      <td>0.682394</td>\n",
              "      <td>0.693722</td>\n",
              "      <td>0.661690</td>\n",
              "      <td>0.657143</td>\n",
              "    </tr>\n",
              "    <tr>\n",
              "      <th>max</th>\n",
              "      <td>3.380629</td>\n",
              "      <td>3.980123</td>\n",
              "      <td>3.347367</td>\n",
              "      <td>3.777104</td>\n",
              "      <td>4.445611</td>\n",
              "      <td>3.948386</td>\n",
              "      <td>3.416009</td>\n",
              "      <td>3.900667</td>\n",
              "      <td>3.610572</td>\n",
              "      <td>3.806722</td>\n",
              "    </tr>\n",
              "  </tbody>\n",
              "</table>\n",
              "</div>"
            ],
            "text/plain": [
              "                  0             1  ...             8             9\n",
              "count  10000.000000  10000.000000  ...  10000.000000  10000.000000\n",
              "mean       0.007123      0.004094  ...     -0.002836     -0.008586\n",
              "std        0.993185      0.997870  ...      0.988386      1.001210\n",
              "min       -3.719071     -3.461308  ...     -4.156086     -3.912793\n",
              "25%       -0.678734     -0.656790  ...     -0.667718     -0.663477\n",
              "50%        0.004211      0.011743  ...      0.000474     -0.015285\n",
              "75%        0.678844      0.665233  ...      0.661690      0.657143\n",
              "max        3.380629      3.980123  ...      3.610572      3.806722\n",
              "\n",
              "[8 rows x 10 columns]"
            ]
          },
          "metadata": {},
          "execution_count": 26
        }
      ]
    },
    {
      "cell_type": "code",
      "metadata": {
        "id": "X2d-h3sSfzVa"
      },
      "source": [
        "df.columns = [\"A\", \"B\", \"C\", \"D\", \"E\", \"F\", \"G\", \"H\", \"I\", \"J\"]"
      ],
      "execution_count": 27,
      "outputs": []
    },
    {
      "cell_type": "code",
      "metadata": {
        "colab": {
          "base_uri": "https://localhost:8080/"
        },
        "id": "GArnOeHrgPVu",
        "outputId": "56ef0f2f-030f-4677-a357-446e0451f280"
      },
      "source": [
        "df['C'].value_counts()"
      ],
      "execution_count": 28,
      "outputs": [
        {
          "output_type": "execute_result",
          "data": {
            "text/plain": [
              "-0.652071    1\n",
              "-0.226370    1\n",
              "-0.012872    1\n",
              " 0.220179    1\n",
              "-1.033509    1\n",
              "            ..\n",
              " 0.984261    1\n",
              " 0.489904    1\n",
              " 0.925643    1\n",
              "-1.503461    1\n",
              " 0.962736    1\n",
              "Name: C, Length: 10000, dtype: int64"
            ]
          },
          "metadata": {},
          "execution_count": 28
        }
      ]
    },
    {
      "cell_type": "code",
      "metadata": {
        "id": "saaV4T_ogibz"
      },
      "source": [
        "df.to_csv(r'Day_1.csv', index = False, header = True)"
      ],
      "execution_count": 29,
      "outputs": []
    },
    {
      "cell_type": "code",
      "metadata": {
        "id": "lK1-M7u3sD-D"
      },
      "source": [
        "new_arr=np.random.randn(100, 10)"
      ],
      "execution_count": 63,
      "outputs": []
    },
    {
      "cell_type": "code",
      "metadata": {
        "id": "p8_ZRvLVh5m9"
      },
      "source": [
        "def generateRandomN(arr):\n",
        "  return arr.shape"
      ],
      "execution_count": 64,
      "outputs": []
    },
    {
      "cell_type": "code",
      "metadata": {
        "colab": {
          "base_uri": "https://localhost:8080/"
        },
        "id": "vjd_d_sLpgaW",
        "outputId": "d50e3f3c-2c01-449c-e6a1-277373c1f592"
      },
      "source": [
        "generateRandomN(new_arr)"
      ],
      "execution_count": 65,
      "outputs": [
        {
          "output_type": "execute_result",
          "data": {
            "text/plain": [
              "(100, 10)"
            ]
          },
          "metadata": {},
          "execution_count": 65
        }
      ]
    },
    {
      "cell_type": "code",
      "metadata": {
        "id": "uxqrrWkWqGag"
      },
      "source": [
        "def convertToDataFrame(arr):\n",
        "  return pd.DataFrame(data=arr)"
      ],
      "execution_count": 66,
      "outputs": []
    },
    {
      "cell_type": "code",
      "metadata": {
        "id": "zGhJnc_Qrdwd"
      },
      "source": [
        "convertToDataFrame(new_arr)"
      ],
      "execution_count": null,
      "outputs": []
    },
    {
      "cell_type": "code",
      "metadata": {
        "id": "J000l8UosSjC"
      },
      "source": [
        ""
      ],
      "execution_count": null,
      "outputs": []
    }
  ]
}